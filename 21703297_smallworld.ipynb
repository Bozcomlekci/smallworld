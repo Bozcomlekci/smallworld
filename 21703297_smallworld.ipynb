{
 "cells": [
  {
   "cell_type": "markdown",
   "metadata": {},
   "source": [
    "# It's a Small World (Problem 5)\n",
    "\n",
    "#### Author: Batuhan Ozcomlekci, 21703297"
   ]
  },
  {
   "cell_type": "markdown",
   "metadata": {},
   "source": [
    "**One of the early key papers that launched network science is the one by Watts and Strogatz, titled [\"Collective dynamics of ’small-world’ networks\"](http://snap.stanford.edu/class/cs224w-readings/watts98smallworld.pdf) Nature, 1998. This article demonstrates that many biological, technological and social networks consist of a connection topology which is not either completely random or completely regular. In the intermediary region between randomness and regularness, peculiar types of networks are present and they are called small-world networks. Some of the examples to these networks are the power grid of the western United States, the neural network of the worm Caenorhabditis elegans and the collaboration graph of film actors. In this article, regular networks are reorganized via a rewiring procedure to obtain the described small-world networks.**\n",
    "\n",
    "**Small-world networks have peculiar properties regarding propagation speed. To show that, an example of infectious diseases propagating through the network is covered in the article. According to this theory, infectious diseases spread more easily in small-world networks than in regular lattices.**\n",
    "\n",
    "**Throughout this report, the theory behind small-world networks will be explained by defining appropriate parameters of a graph. Then utilizing computer-generated networks as described in the paper, the figures in the paper will be reproduced.** "
   ]
  },
  {
   "cell_type": "markdown",
   "metadata": {},
   "source": [
    "### Theory"
   ]
  },
  {
   "cell_type": "markdown",
   "metadata": {},
   "source": [
    "Initially, we need to start with the definition of the appropriate parameters of our ring-shaped graph. These are:\n",
    "\n",
    "- *$N$*: Number of vertices in the graph\n",
    "\n",
    "- *$k$*: Number of edges for each vertex (even to make initial regular connections symmetric)\n",
    "\n",
    "- *$p$*: Probability to rewire the graph edges in the rewiring process.\n"
   ]
  },
  {
   "cell_type": "markdown",
   "metadata": {},
   "source": [
    "Once the parameters are defined, construction of the graph is performed according to the following procedure:\n",
    "\n",
    "1. Start with a circularly aligned N vertices.\n",
    "\n",
    "2. Connect each vertex to its k nearest neighbor (even k). Do not allow duplicate edges.\n",
    "\n",
    "3. Select a vertex and the edge to its ith nearest clockwise neighbour vertex (initially, first nearest neighbour). Rewire this edge to a random vertex with probability p. Do not allow duplicate edges.\n",
    "\n",
    "4. Iterate over all of the vertices in clockwise direction to apply the rewiring procedure.\n",
    "\n",
    "5. Once one lap is completed, proceed with the (i+1)th nearest neighbours. Apply the same procedure for the next lap.\n",
    "\n",
    "6. The procedure should be applied for k/2 laps to complete the rewiring and thus, the construction of the intended graph.\n",
    "\n",
    "The graph will be available for an analysis when these steps are completed.\n"
   ]
  },
  {
   "cell_type": "markdown",
   "metadata": {},
   "source": [
    "The graph topology can be in 3 different ways:\n",
    "\n",
    "+ *Fully regular when p=0:* Basically, rewiring procedure is skipped.\n",
    "\n",
    "+ *Intermediary networks 0<p<1:* The graph becomes increasingly disordered p. For some values of p in this region, small-world phenomenon is observed.\n",
    "\n",
    "+ *Fully random when p=1:* Each edge is connected randomly yielding a random network."
   ]
  },
  {
   "cell_type": "markdown",
   "metadata": {},
   "source": [
    "To collect information on the topology of the graph, two informative metrics are defined:\n",
    "\n",
    "+ **Characteristic Path Length, L(p)**: Average of the shortest distance between any two vertices on the graph. This property provide information concerning the global topology of the graph.\n",
    "\n",
    "+ **Clustering Coefficient, C(p)**: Average of the proportions of connections among the neighbours of a graph to maximum number of connections among these neighbours ($\\frac{k(k-1)}{2}$). This property provide information concerning the local cliqueness of the graph.\n",
    "\n",
    "For example, in a friendship network, L is the average number of friendships in the shortest chain connecting two people and C measures the cliquishness of a friendship circle."
   ]
  },
  {
   "cell_type": "markdown",
   "metadata": {},
   "source": [
    "Given these measures, a fully regular (p=0) and a fully random (p=1) networks display the certain trends for these metrics.\n",
    "\n",
    "+ **For a fully regular (p=0) network,** $L \\sim  \\frac{n}{2k}$ and $C \\sim \\frac{3}{4}$\n",
    "\n",
    "+ **For a fully random (p=1) network,** $L_{random} \\sim \\frac{ln(n)}{ln(k)}$ and $C_{random} \\sim \\frac{k}{n}$"
   ]
  },
  {
   "cell_type": "code",
   "execution_count": null,
   "metadata": {},
   "outputs": [],
   "source": [
    "#Run the code below to install the required packages if not already installed\n",
    "%pip install matplotlib\n",
    "%pip install ipywidgets\n",
    "%pip install networkx"
   ]
  },
  {
   "cell_type": "code",
   "execution_count": 2,
   "metadata": {},
   "outputs": [],
   "source": [
    "# Import the required packages\n",
    "import networkx as nx\n",
    "import random\n",
    "from random import choice\n",
    "import numpy as np\n",
    "import math\n",
    "import itertools\n",
    "from collections import deque  \n",
    "from smallworld.draw import draw_network\n",
    "\n",
    "import matplotlib.pyplot as plt\n",
    "import ipywidgets as widgets\n",
    "from IPython.display import display"
   ]
  },
  {
   "cell_type": "code",
   "execution_count": 3,
   "metadata": {},
   "outputs": [],
   "source": [
    "def diff(li1, li2):\n",
    "    return list(set(li1) - set(li2)) + list(set(li2) - set(li1))\n",
    "\n",
    "def get_graph(N, k, p):\n",
    "    G = nx.Graph()\n",
    "    all_nodes = list(range(N))\n",
    "    G.add_nodes_from(range(N))\n",
    "    half_k = int(k/2)\n",
    "\n",
    "    adj_mat = np.identity(N)\n",
    "    for k_nn in range(1, half_k+1):\n",
    "        for n in range(N):\n",
    "            target = (n+k_nn)%N\n",
    "            adj_mat.itemset((n, target), 1)\n",
    "            adj_mat.itemset((target, n), 1)\n",
    "    edgelist = []\n",
    "    for k_nn in range(1, half_k+1):\n",
    "        for n in range(N):\n",
    "            if random.random() < p: #rewire\n",
    "                old = (n+k_nn)%N\n",
    "                adj_mat.itemset((n, old), 0)\n",
    "                adj_mat.itemset((old, n), 0)\n",
    "                nth_row = adj_mat[n].copy()\n",
    "                forbiddens = list(np.where(nth_row == 1)[0])\n",
    "                target = choice(diff(all_nodes, forbiddens))\n",
    "            else:\n",
    "                target = (n+k_nn)%N\n",
    "            edgelist.append((n, target))\n",
    "            adj_mat.itemset((n, target), 1)\n",
    "            adj_mat.itemset((target, n), 1)\n",
    "\n",
    "    G.add_edges_from(edgelist)\n",
    "    return G, adj_mat"
   ]
  },
  {
   "cell_type": "markdown",
   "metadata": {},
   "source": [
    "In order to draw the network in the figure 1, networkx package similar to [[2]](https://github.com/benmaier/smallworld) is utilized. Below you can play with the visualization."
   ]
  },
  {
   "cell_type": "code",
   "execution_count": 4,
   "metadata": {},
   "outputs": [
    {
     "data": {
      "application/vnd.jupyter.widget-view+json": {
       "model_id": "768c4c17be0d4312b636ce57a1c9a50e",
       "version_major": 2,
       "version_minor": 0
      },
      "text/plain": [
       "FloatSlider(value=0.0, description='p', max=1.0)"
      ]
     },
     "metadata": {},
     "output_type": "display_data"
    },
    {
     "data": {
      "application/vnd.jupyter.widget-view+json": {
       "model_id": "79685eb239e44a97b9e4f607af002144",
       "version_major": 2,
       "version_minor": 0
      },
      "text/plain": [
       "IntSlider(value=21, description='N', min=10)"
      ]
     },
     "metadata": {},
     "output_type": "display_data"
    },
    {
     "data": {
      "application/vnd.jupyter.widget-view+json": {
       "model_id": "a255a6a3821849ef9473cfe13bd6e6b6",
       "version_major": 2,
       "version_minor": 0
      },
      "text/plain": [
       "IntSlider(value=4, description='k', max=30, min=2, step=2)"
      ]
     },
     "metadata": {},
     "output_type": "display_data"
    },
    {
     "data": {
      "application/vnd.jupyter.widget-view+json": {
       "model_id": "edcdfae2dfd34005a48a6e564499c2c7",
       "version_major": 2,
       "version_minor": 0
      },
      "text/plain": [
       "Output()"
      ]
     },
     "metadata": {},
     "output_type": "display_data"
    }
   ],
   "source": [
    "p = 0.0 # default p\n",
    "N = 21 # default number of nodes\n",
    "k = 4 # default number of edges per node\n",
    "\n",
    "slider_p = widgets.FloatSlider(value=p,\n",
    "    min=0,\n",
    "    max=1.0,\n",
    "    step=0.1,\n",
    "    description='p',\n",
    "    orientation='horizontal',\n",
    ")\n",
    "\n",
    "slider_N = widgets.IntSlider(value=N,\n",
    "    min=10,\n",
    "    max=100,\n",
    "    step=1,\n",
    "    description='N',\n",
    "    orientation='horizontal',\n",
    ")\n",
    "\n",
    "slider_k = widgets.IntSlider(value=k,\n",
    "    min=2,\n",
    "    max=30,\n",
    "    step=2,\n",
    "    description='k',\n",
    "    orientation='horizontal',\n",
    ")\n",
    "output = widgets.Output()\n",
    "with output:\n",
    "    output.clear_output()\n",
    "    label = f'$p={p}$'\n",
    "    fig, ax = plt.subplots(1,1,figsize=(5,5))\n",
    "    G, adj_mat = get_graph(N, k, p)\n",
    "    draw_network(G,k/2,focal_node=0,ax=ax)\n",
    "    ax.set_title(label,fontsize=11)\n",
    "    # display the graph\n",
    "    plt.subplots_adjust(wspace=1)\n",
    "    plt.show()\n",
    "\n",
    "def draw_graph(p, N, k):\n",
    "    with output:\n",
    "        output.clear_output()\n",
    "        label = f'$p={p}$'\n",
    "        fig, ax = plt.subplots(1,1,figsize=(5,5))\n",
    "        G, adj_mat = get_graph(N, k, p)\n",
    "        draw_network(G,k/2,focal_node=0,ax=ax)\n",
    "        ax.set_title(label,fontsize=11)\n",
    "        # display the graph\n",
    "        plt.subplots_adjust(wspace=1)\n",
    "        plt.show()\n",
    "\n",
    "ie = widgets.interactive(draw_graph, p=slider_p, N=slider_N, k=slider_k)\n",
    "display(slider_p, slider_N, slider_k, output)\n"
   ]
  },
  {
   "cell_type": "markdown",
   "metadata": {},
   "source": [
    "### Define algorithms to obtain L(p) and C(p) metrics."
   ]
  },
  {
   "cell_type": "code",
   "execution_count": 5,
   "metadata": {},
   "outputs": [],
   "source": [
    "# Return average of the clustering coefficients (C(p))\n",
    "def avg_coefficient(adj_mat, G):\n",
    "    C_v_list = []\n",
    "    for v in range(adj_mat.shape[0]):\n",
    "        C_v = clustering_coeff(v, adj_mat, G)\n",
    "        C_v_list.append(C_v)\n",
    "    return sum(C_v_list) / len(C_v_list)\n",
    "\n",
    "# Return the clustering coefficient of a vertex (C_v(p))       \n",
    "def clustering_coeff(v, adj_mat, G):\n",
    "    vth_row = adj_mat[v]\n",
    "    nbhood_v = list(np.where(vth_row == 1)[0])\n",
    "    if len(nbhood_v) < 2:\n",
    "        return 0\n",
    "    \n",
    "    nbhood_connections = 0\n",
    "    for a, b in itertools.combinations(nbhood_v, 2):\n",
    "        if adj_mat[a,b]:\n",
    "            nbhood_connections += 1 \n",
    "    \n",
    "    nbhood_size = len(nbhood_v)\n",
    "    max_connections = (nbhood_size * (nbhood_size-1))/2\n",
    "    return nbhood_connections / max_connections\n",
    "                \n",
    "# Return average of the shortest path (chain) lengths (L(p))\n",
    "def averageChainLength(adj_mat, G):\n",
    "    '''returns number of edges in shortest paths between two edges,\n",
    "        averaged over all pairs of edges''' \n",
    "    totDistsCnt = 0\n",
    "    totDistsSum = 0\n",
    "    \n",
    "    for v in range(adj_mat.shape[0]):\n",
    "        distsCnt, distsSum = shortestPath(v, adj_mat, G)\n",
    "        totDistsCnt += distsCnt\n",
    "        totDistsSum += distsSum \n",
    "                \n",
    "    return totDistsSum / totDistsCnt    \n",
    "        \n",
    "#Utilize Dikjsta''s shortest path length algorithm         \n",
    "def shortestPath(V_node, adj_mat, G):\n",
    "    distances = {}\n",
    "\n",
    "    q = deque()\n",
    "    q.append(V_node)\n",
    "    distances[V_node] = 0\n",
    "    \n",
    "    while len(q):\n",
    "        curr_vertex = q.popleft()\n",
    "        d = distances[curr_vertex]+1 if curr_vertex in distances else 1 \n",
    "        \n",
    "        vth_row = adj_mat[curr_vertex]\n",
    "        nbhood_v = list(np.where(vth_row == 1)[0])\n",
    "        connected = [v for v in nbhood_v if v not in distances and v not in q]\n",
    "        q.extend(connected)\n",
    "        for c in connected: \n",
    "            if c not in distances:\n",
    "                distances[c] = d\n",
    "    \n",
    "    chains = 0\n",
    "    totalChainLength = 0\n",
    "    for d in distances.values(): \n",
    "        if d != math.inf and d != 0:\n",
    "            chains += 1\n",
    "            totalChainLength += d\n",
    "    \n",
    "    return chains, totalChainLength "
   ]
  },
  {
   "cell_type": "markdown",
   "metadata": {},
   "source": [
    "### Figure 2 (Trends of L(p) and C(p) and the Small-World Phenomenon in the Intermediary Region)"
   ]
  },
  {
   "cell_type": "code",
   "execution_count": 8,
   "metadata": {},
   "outputs": [
    {
     "name": "stdout",
     "output_type": "stream",
     "text": [
      "Iteration 0, p: 1.58e-04,   L(p)/L(0): 1.00e+00, C(p)/C(0): 1.00e+00\n",
      "Iteration 1, p: 2.51e-04,   L(p)/L(0): 7.92e-01, C(p)/C(0): 9.99e-01\n",
      "Iteration 2, p: 3.98e-04,   L(p)/L(0): 8.49e-01, C(p)/C(0): 9.99e-01\n",
      "Iteration 3, p: 6.31e-04,   L(p)/L(0): 5.35e-01, C(p)/C(0): 9.99e-01\n",
      "Iteration 4, p: 1.00e-03,   L(p)/L(0): 5.38e-01, C(p)/C(0): 9.98e-01\n",
      "Iteration 5, p: 1.58e-03,   L(p)/L(0): 5.31e-01, C(p)/C(0): 9.98e-01\n",
      "Iteration 6, p: 2.51e-03,   L(p)/L(0): 4.11e-01, C(p)/C(0): 9.97e-01\n",
      "Iteration 7, p: 3.98e-03,   L(p)/L(0): 2.75e-01, C(p)/C(0): 9.91e-01\n",
      "Iteration 8, p: 6.31e-03,   L(p)/L(0): 1.88e-01, C(p)/C(0): 9.81e-01\n",
      "Iteration 9, p: 1.00e-02,   L(p)/L(0): 1.71e-01, C(p)/C(0): 9.76e-01\n",
      "Iteration 10, p: 1.58e-02,   L(p)/L(0): 1.40e-01, C(p)/C(0): 9.63e-01\n",
      "Iteration 11, p: 2.51e-02,   L(p)/L(0): 1.25e-01, C(p)/C(0): 9.44e-01\n",
      "Iteration 12, p: 3.98e-02,   L(p)/L(0): 1.13e-01, C(p)/C(0): 9.22e-01\n",
      "Iteration 13, p: 6.31e-02,   L(p)/L(0): 9.81e-02, C(p)/C(0): 8.71e-01\n",
      "Iteration 14, p: 1.00e-01,   L(p)/L(0): 8.76e-02, C(p)/C(0): 8.03e-01\n",
      "Iteration 15, p: 1.58e-01,   L(p)/L(0): 8.03e-02, C(p)/C(0): 7.12e-01\n",
      "Iteration 16, p: 2.51e-01,   L(p)/L(0): 7.30e-02, C(p)/C(0): 5.56e-01\n",
      "Iteration 17, p: 3.98e-01,   L(p)/L(0): 6.87e-02, C(p)/C(0): 4.23e-01\n",
      "Iteration 18, p: 6.31e-01,   L(p)/L(0): 6.56e-02, C(p)/C(0): 3.03e-01\n",
      "Iteration 19, p: 1.00e+00,   L(p)/L(0): 6.48e-02, C(p)/C(0): 2.71e-01\n"
     ]
    }
   ],
   "source": [
    "# Reproduce the graph in Figure 2 of the paper\n",
    "C_list = []\n",
    "L_list = []\n",
    "p_list = []\n",
    "\n",
    "G_0, adj_mat_0 = get_graph(N=1000, k=10, p=0)\n",
    "C_0 = avg_coefficient(G=G_0, adj_mat=adj_mat_0)\n",
    "L_0 = averageChainLength(G=G_0, adj_mat=adj_mat_0)\n",
    "    \n",
    "for i, e in enumerate(range(38, -1, -2)):\n",
    "    p = 1/math.pow(10, e/10)\n",
    "    p_list.append(p)\n",
    "\n",
    "    G, adj_mat = get_graph(N=1000, k=10, p=p)\n",
    "    \n",
    "    C_p = avg_coefficient(G=G, adj_mat=adj_mat)\n",
    "    L_p = averageChainLength(G=G, adj_mat=adj_mat)\n",
    "    C_list.append(C_p/C_0) \n",
    "    L_list.append(L_p/L_0)\n",
    "    \n",
    "    print(\"Iteration {}, p: {:.2e},   L(p)/L(0): {:.2e}, C(p)/C(0): {:.2e}\".format(i, p, L_list[-1], C_list[-1]) )\n"
   ]
  },
  {
   "cell_type": "code",
   "execution_count": 9,
   "metadata": {},
   "outputs": [
    {
     "data": {
      "image/png": "[encoded data removed]",
      "text/plain": [
       "<Figure size 432x288 with 1 Axes>"
      ]
     },
     "metadata": {
      "needs_background": "light"
     },
     "output_type": "display_data"
    }
   ],
   "source": [
    "# Plot figure 2\n",
    "plt.figure()\n",
    "plt.xscale('log')\n",
    "plt.title('Figure 2')\n",
    "plt.xlim(.0001, 1)\n",
    "plt.ylim(.05, 1.05)\n",
    "plt.xlabel('$p$', fontsize=14)\n",
    "plt.plot(p_list, C_list, '^')\n",
    "plt.plot(p_list, L_list, 'go')\n",
    "plt.legend(['C(p)/C(0)', 'L(p)/L(0)'])\n",
    "plt.show()"
   ]
  },
  {
   "cell_type": "markdown",
   "metadata": {},
   "source": [
    "#### Figure 3 (Trends of $r_{half}$ and $T(p, r=1)$)"
   ]
  },
  {
   "cell_type": "code",
   "execution_count": 12,
   "metadata": {},
   "outputs": [],
   "source": [
    "#Functions to  collect T(p) and r_half statistics\n",
    "def total_infection_time(adj_mat, r=1):\n",
    "    N = adj_mat.shape[0]\n",
    "    population = np.zeros(adj_mat.shape[0])  # 0 for not infected, 1 for just infected, 2 for infected immunes or dead\n",
    "    population[0] = 1 # initially infect a single person\n",
    "    for t in range(N):\n",
    "        if np.all(population != 0):\n",
    "            return t\n",
    "        pop_next = population.copy()\n",
    "        for v in range(N):\n",
    "            if population[v] == 1:\n",
    "                vth_row = adj_mat[v]\n",
    "                nbhood_v = list(np.where(vth_row == 1)[0])\n",
    "                for neighbor in nbhood_v:\n",
    "                    if population[neighbor] == 0 and random.random() < r:\n",
    "                        pop_next[neighbor] = 1\n",
    "                pop_next[v] = 2\n",
    "        population = pop_next\n",
    "    return -1\n",
    "\n",
    "def calc_r_half(adj_mat):\n",
    "    r_vals = np.linspace(0.15, 0.35, 5)\n",
    "    for r in r_vals:\n",
    "        N = adj_mat.shape[0]\n",
    "        population = np.zeros(adj_mat.shape[0]) # 0 for not infected, 1 for just infected, 2 for infected immunes or dead\n",
    "        population[0] = 1 # initially infect a single person\n",
    "        for t in range(N):\n",
    "            ratio = len(np.where(population != 0)[0])/len(population)\n",
    "            if ratio > 0.5:\n",
    "                return r\n",
    "            pop_next = population.copy()\n",
    "            for v in range(N):\n",
    "                if population[v] == 1:\n",
    "                    vth_row = adj_mat[v]\n",
    "                    nbhood_v = list(np.where(vth_row == 1)[0])\n",
    "                    for neighbor in nbhood_v:\n",
    "                        if population[neighbor] == 0 and random.random() < r:\n",
    "                            pop_next[neighbor] = 1\n",
    "                    pop_next[v] = 2\n",
    "            population = pop_next\n",
    "    return -1"
   ]
  },
  {
   "cell_type": "code",
   "execution_count": 14,
   "metadata": {},
   "outputs": [
    {
     "name": "stdout",
     "output_type": "stream",
     "text": [
      "Iteration 0, p: 1.58e-04,   L(p)/L(0): 8.20e-01, T(p)/T(0): 8.20e-01, r_half=3.50e-01\n",
      "Iteration 1, p: 2.51e-04,   L(p)/L(0): 1.00e+00, T(p)/T(0): 1.00e+00, r_half=-1.00e+00\n",
      "Iteration 2, p: 3.98e-04,   L(p)/L(0): 9.42e-01, T(p)/T(0): 9.40e-01, r_half=3.50e-01\n",
      "Iteration 3, p: 6.31e-04,   L(p)/L(0): 8.43e-01, T(p)/T(0): 9.80e-01, r_half=3.50e-01\n",
      "Iteration 4, p: 1.00e-03,   L(p)/L(0): 4.63e-01, T(p)/T(0): 3.90e-01, r_half=3.50e-01\n",
      "Iteration 5, p: 1.58e-03,   L(p)/L(0): 3.81e-01, T(p)/T(0): 2.90e-01, r_half=3.00e-01\n",
      "Iteration 6, p: 2.51e-03,   L(p)/L(0): 3.51e-01, T(p)/T(0): 2.70e-01, r_half=3.00e-01\n",
      "Iteration 7, p: 3.98e-03,   L(p)/L(0): 3.07e-01, T(p)/T(0): 2.40e-01, r_half=3.00e-01\n",
      "Iteration 8, p: 6.31e-03,   L(p)/L(0): 2.43e-01, T(p)/T(0): 1.80e-01, r_half=3.00e-01\n",
      "Iteration 9, p: 1.00e-02,   L(p)/L(0): 1.78e-01, T(p)/T(0): 1.40e-01, r_half=3.00e-01\n",
      "Iteration 10, p: 1.58e-02,   L(p)/L(0): 1.53e-01, T(p)/T(0): 1.40e-01, r_half=3.00e-01\n",
      "Iteration 11, p: 2.51e-02,   L(p)/L(0): 1.24e-01, T(p)/T(0): 9.00e-02, r_half=2.50e-01\n",
      "Iteration 12, p: 3.98e-02,   L(p)/L(0): 1.09e-01, T(p)/T(0): 9.00e-02, r_half=2.50e-01\n",
      "Iteration 13, p: 6.31e-02,   L(p)/L(0): 9.76e-02, T(p)/T(0): 7.00e-02, r_half=2.00e-01\n",
      "Iteration 14, p: 1.00e-01,   L(p)/L(0): 8.83e-02, T(p)/T(0): 6.00e-02, r_half=2.50e-01\n",
      "Iteration 15, p: 1.58e-01,   L(p)/L(0): 8.17e-02, T(p)/T(0): 6.00e-02, r_half=2.00e-01\n",
      "Iteration 16, p: 2.51e-01,   L(p)/L(0): 7.33e-02, T(p)/T(0): 5.00e-02, r_half=2.00e-01\n",
      "Iteration 17, p: 3.98e-01,   L(p)/L(0): 6.92e-02, T(p)/T(0): 5.00e-02, r_half=1.50e-01\n",
      "Iteration 18, p: 6.31e-01,   L(p)/L(0): 6.57e-02, T(p)/T(0): 5.00e-02, r_half=1.50e-01\n",
      "Iteration 19, p: 1.00e+00,   L(p)/L(0): 6.48e-02, T(p)/T(0): 5.00e-02, r_half=2.00e-01\n"
     ]
    }
   ],
   "source": [
    "#Generate the graphs in Figure 3 of the paper\n",
    "#Generate 20 graphs and run tests (This process may require a lot of time and memory)\n",
    "N_default = 1000\n",
    "k_default = 10\n",
    "G_0, adj_mat_0 = get_graph(N=N_default, k=k_default, p=0)\n",
    "C_0 = avg_coefficient(G=G_0, adj_mat=adj_mat_0)\n",
    "L_0 = averageChainLength(G=G_0, adj_mat=adj_mat_0)\n",
    "T_0 = total_infection_time(adj_mat_0)\n",
    "#if T_0 == -1:\n",
    "#    print('Impossible to infect total population')\n",
    "\n",
    "L_list = []\n",
    "p_list = []\n",
    "T_list = []\n",
    "r_half_list = []\n",
    "graph_list = []\n",
    "\n",
    "\n",
    "for i, e in enumerate(range(38, -1, -2)):\n",
    "    p = 1/math.pow(10, e/10)\n",
    "    p_list.append(p)\n",
    "\n",
    "    G, adj_mat = get_graph(N=N_default, k=k_default, p=p)\n",
    "    L_p = averageChainLength(G=G, adj_mat=adj_mat)\n",
    "    L_list.append(L_p/L_0)\n",
    "    r_half = calc_r_half(adj_mat)\n",
    "    r_half_list.append(r_half)\n",
    "    T_p = total_infection_time(adj_mat)\n",
    "    T_list.append(T_p/T_0)\n",
    "    \n",
    "    print(\"Iteration {}, p: {:.2e},   L(p)/L(0): {:.2e}, T(p)/T(0): {:.2e}, r_half={:.2e}\".format(i, p, L_list[-1], T_list[-1], r_half_list[-1]) )"
   ]
  },
  {
   "cell_type": "code",
   "execution_count": 15,
   "metadata": {},
   "outputs": [
    {
     "data": {
      "text/plain": [
       "<matplotlib.legend.Legend at 0x7f8d84b4e7d0>"
      ]
     },
     "execution_count": 15,
     "metadata": {},
     "output_type": "execute_result"
    },
    {
     "data": {
      "image/png": "[encoded data removed]",
      "text/plain": [
       "<Figure size 432x288 with 1 Axes>"
      ]
     },
     "metadata": {
      "needs_background": "light"
     },
     "output_type": "display_data"
    },
    {
     "data": {
      "image/png": "[encoded data removed]",
      "text/plain": [
       "<Figure size 432x288 with 1 Axes>"
      ]
     },
     "metadata": {
      "needs_background": "light"
     },
     "output_type": "display_data"
    }
   ],
   "source": [
    "#Plot figure 3\n",
    "plt.figure()\n",
    "plt.xscale('log')\n",
    "plt.title('Figure 3a')\n",
    "plt.xlim(.0001, 1)\n",
    "plt.ylim(.05, 0.40)\n",
    "plt.xlabel('$p$', fontsize=14)\n",
    "plt.ylabel(r'$r_{half}$', fontsize=14)\n",
    "plt.plot(p_list, r_half_list, 'bo')\n",
    "\n",
    "plt.figure()\n",
    "plt.xscale('log')\n",
    "plt.title('Figure 3b')\n",
    "plt.xlim(.0001, 1)\n",
    "plt.ylim(0, 1.05)\n",
    "plt.xlabel('$p$', fontsize=14)\n",
    "plt.plot(p_list, T_list, 's')\n",
    "plt.plot(p_list, L_list, 'go')\n",
    "plt.legend(['T(p)/T(0)', 'L(p)/L(0)'])"
   ]
  },
  {
   "cell_type": "markdown",
   "metadata": {},
   "source": [
    "In conclusion, small-world phenomenon in slighlty randomly connected networks are confirmed. For some values of p, we are able to obtain high local connectivity (cliqueness) measured by $C(p)>C_{random}$ and low characteristic path length $L(p)\\sim L_{random}$ simultaneously. These values imply the existence of a small-world phenomenon in the network.      "
   ]
  },
  {
   "cell_type": "markdown",
   "metadata": {},
   "source": [
    "#### References\n",
    "\n",
    "[1] Watts, D., Strogatz, S. Collective dynamics of ‘small-world’ networks. Nature 393, 440–442 (1998). https://doi.org/10.1038/30918\n",
    "\n",
    "[2] B. Maier, Smallworld. GitHub, 2021. [Online]. Available: https://github.com/benmaier/smallworld\n"
   ]
  }
 ],
 "metadata": {
  "interpreter": {
   "hash": "40f30b587426bed70a008fcf7d7aeb99a1a48cc012f6a6b7aa1bd5f8772c0f15"
  },
  "kernelspec": {
   "display_name": "Python 3.10.4 ('exp')",
   "language": "python",
   "name": "python3"
  },
  "language_info": {
   "codemirror_mode": {
    "name": "ipython",
    "version": 3
   },
   "file_extension": ".py",
   "mimetype": "text/x-python",
   "name": "python",
   "nbconvert_exporter": "python",
   "pygments_lexer": "ipython3",
   "version": "3.10.4"
  },
  "orig_nbformat": 4
 },
 "nbformat": 4,
 "nbformat_minor": 2
}
